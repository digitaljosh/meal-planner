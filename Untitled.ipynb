{
 "cells": [
  {
   "cell_type": "code",
   "execution_count": 2,
   "metadata": {
    "collapsed": true
   },
   "outputs": [],
   "source": [
    "def ingredient_doubler(list_of_ingredients):\n",
    "    new_ingredient_list = []\n",
    "    for ingredient in list_of_ingredients:\n",
    "        if ingredient not in new_ingredient_list:\n",
    "            new_ingredient_list.append(ingredient)\n",
    "        else:\n",
    "            # ingredient already listed want to double the amount\n",
    "            for i, char in enumerate(ingredient):\n",
    "                #gets first number in string (we only want first numnber in case its a fraction only double numerator)\n",
    "                if char.isdigit():\n",
    "                    double = int(ingredient[i]) * 2\n",
    "                    ingredient[i] = str(ingredient[double])\n",
    "                    #new_ingredient_list[ingredient] = new_ingredient_list\n",
    "                    #new_ingredient_list.replace(ingredient, ingredient)\n",
    "                else:\n",
    "                    ingredient = \"2X\" + ingredient\n",
    "            # doubled = ingredient.replace(ingredient[x], ingredient[x*2])\n",
    "                new_ingredient_list.replace(ingredient, ingredient)\n",
    "            # new_ingredient_list[ingredient] = doubled\n",
    "    return new_ingredient_list"
   ]
  },
  {
   "cell_type": "code",
   "execution_count": 4,
   "metadata": {
    "collapsed": false
   },
   "outputs": [],
   "source": [
    "ingreds = ['1/2 cup almonds', 'milk', '3 tb hot chocolate', 'Beef 2 lbs', '3.5 grams butter']"
   ]
  },
  {
   "cell_type": "code",
   "execution_count": null,
   "metadata": {
    "collapsed": true
   },
   "outputs": [],
   "source": []
  },
  {
   "cell_type": "code",
   "execution_count": 6,
   "metadata": {
    "collapsed": false
   },
   "outputs": [
    {
     "data": {
      "text/plain": [
       "['1/2 cup almonds',\n",
       " 'milk',\n",
       " '3 tb hot chocolate',\n",
       " 'Beef 2 lbs',\n",
       " '3.5 grams butter']"
      ]
     },
     "execution_count": 6,
     "metadata": {},
     "output_type": "execute_result"
    }
   ],
   "source": [
    "ingredient_doubler(ingreds)"
   ]
  },
  {
   "cell_type": "code",
   "execution_count": null,
   "metadata": {
    "collapsed": true
   },
   "outputs": [],
   "source": []
  },
  {
   "cell_type": "code",
   "execution_count": 8,
   "metadata": {
    "collapsed": false
   },
   "outputs": [
    {
     "name": "stdout",
     "output_type": "stream",
     "text": [
      "['1/2 cup almonds', 'milk', '3 tb hot chocolate', 'Beef 2 lbs', '3.5 grams butter']\n"
     ]
    }
   ],
   "source": [
    "print(ingredient_doubler(ingreds))"
   ]
  },
  {
   "cell_type": "code",
   "execution_count": 9,
   "metadata": {
    "collapsed": true
   },
   "outputs": [],
   "source": [
    "def ingredient_doubler(list_of_ingredients):\n",
    "    new_ingredient_list = []\n",
    "    for ingredient in list_of_ingredients:\n",
    "        if ingredient not in new_ingredient_list:\n",
    "            new_ingredient_list.append(ingredient)\n",
    "        else:\n",
    "            # ingredient already listed want to double the amount\n",
    "            for i, char in enumerate(ingredient):\n",
    "                #gets first number in string (we only want first numnber in case its a fraction only double numerator)\n",
    "                if char.isdigit():\n",
    "                    double = int(ingredient[i]) * 2\n",
    "                    ingredient[i] = str(double)\n",
    "                    #new_ingredient_list[ingredient] = new_ingredient_list\n",
    "                    #new_ingredient_list.replace(ingredient, ingredient)\n",
    "                    new_ingredient = ingredient\n",
    "                else:\n",
    "                    new_ingredient = \"2X\" + ingredient\n",
    "            # doubled = ingredient.replace(ingredient[x], ingredient[x*2])\n",
    "                new_ingredient_list.replace(ingredient, new_ingredient)\n",
    "            # new_ingredient_list[ingredient] = doubled\n",
    "    return new_ingredient_list"
   ]
  },
  {
   "cell_type": "code",
   "execution_count": 10,
   "metadata": {
    "collapsed": false
   },
   "outputs": [
    {
     "data": {
      "text/plain": [
       "['1/2 cup almonds',\n",
       " 'milk',\n",
       " '3 tb hot chocolate',\n",
       " 'Beef 2 lbs',\n",
       " '3.5 grams butter']"
      ]
     },
     "execution_count": 10,
     "metadata": {},
     "output_type": "execute_result"
    }
   ],
   "source": [
    "ingreds\n"
   ]
  },
  {
   "cell_type": "code",
   "execution_count": 11,
   "metadata": {
    "collapsed": false
   },
   "outputs": [
    {
     "data": {
      "text/plain": [
       "['1/2 cup almonds',\n",
       " 'milk',\n",
       " '3 tb hot chocolate',\n",
       " 'Beef 2 lbs',\n",
       " '3.5 grams butter']"
      ]
     },
     "execution_count": 11,
     "metadata": {},
     "output_type": "execute_result"
    }
   ],
   "source": [
    "ingredient_doubler(ingreds)"
   ]
  },
  {
   "cell_type": "code",
   "execution_count": 22,
   "metadata": {
    "collapsed": false
   },
   "outputs": [
    {
     "ename": "AttributeError",
     "evalue": "'NoneType' object has no attribute 'start'",
     "output_type": "error",
     "traceback": [
      "\u001b[0;31m---------------------------------------------------------------------------\u001b[0m",
      "\u001b[0;31mAttributeError\u001b[0m                            Traceback (most recent call last)",
      "\u001b[0;32m<ipython-input-22-da3d40b2b6b9>\u001b[0m in \u001b[0;36m<module>\u001b[0;34m()\u001b[0m\n\u001b[1;32m      3\u001b[0m \u001b[0ms1\u001b[0m \u001b[0;34m=\u001b[0m \u001b[0;34m' cup almonds'\u001b[0m\u001b[0;34m\u001b[0m\u001b[0m\n\u001b[1;32m      4\u001b[0m \u001b[0mm\u001b[0m \u001b[0;34m=\u001b[0m \u001b[0mre\u001b[0m\u001b[0;34m.\u001b[0m\u001b[0msearch\u001b[0m\u001b[0;34m(\u001b[0m\u001b[0;34m\"\\d\"\u001b[0m\u001b[0;34m,\u001b[0m \u001b[0ms1\u001b[0m\u001b[0;34m)\u001b[0m\u001b[0;34m\u001b[0m\u001b[0m\n\u001b[0;32m----> 5\u001b[0;31m \u001b[0mprint\u001b[0m\u001b[0;34m(\u001b[0m\u001b[0mm\u001b[0m\u001b[0;34m.\u001b[0m\u001b[0mstart\u001b[0m\u001b[0;34m(\u001b[0m\u001b[0;34m)\u001b[0m\u001b[0;34m)\u001b[0m\u001b[0;34m\u001b[0m\u001b[0m\n\u001b[0m\u001b[1;32m      6\u001b[0m \u001b[0mprint\u001b[0m\u001b[0;34m(\u001b[0m\u001b[0ms1\u001b[0m\u001b[0;34m[\u001b[0m\u001b[0mm\u001b[0m\u001b[0;34m.\u001b[0m\u001b[0mstart\u001b[0m\u001b[0;34m(\u001b[0m\u001b[0;34m)\u001b[0m\u001b[0;34m]\u001b[0m\u001b[0;34m)\u001b[0m\u001b[0;34m\u001b[0m\u001b[0m\n\u001b[1;32m      7\u001b[0m \u001b[0;31m#index = m - 1\u001b[0m\u001b[0;34m\u001b[0m\u001b[0;34m\u001b[0m\u001b[0m\n",
      "\u001b[0;31mAttributeError\u001b[0m: 'NoneType' object has no attribute 'start'"
     ]
    }
   ],
   "source": [
    "import re\n",
    "\n",
    "s1 = ' cup almonds'\n",
    "m = re.search(\"\\d\", s1)\n",
    "print(m.start())\n",
    "print(s1[m.start()])\n",
    "#index = m - 1\n",
    "#print(s1[index])\n",
    "#print(s1[m])"
   ]
  },
  {
   "cell_type": "code",
   "execution_count": 59,
   "metadata": {
    "collapsed": false
   },
   "outputs": [],
   "source": [
    "import re\n",
    "\n",
    "def ingredients_doubler(list_of_ingredients):\n",
    "    new_ingredient_list = []\n",
    "    for ingredient in list_of_ingredients:\n",
    "        print(\"$$$$\" + ingredient)\n",
    "        if ingredient not in new_ingredient_list:\n",
    "            print(\"+\")\n",
    "            new_ingredient_list.append(ingredient)\n",
    "        else:\n",
    "            print(\"-\")\n",
    "            # ingredient already listed want to double the amount\n",
    "            try:\n",
    "                #returns first index number of match .start\n",
    "                first_number_match_found = re.search(\"\\d\", ingredient)\n",
    "                index = first_number_match_found.start()\n",
    "                double = int(ingredient[index]) * 2\n",
    "                print('!!!' +ingredient[index])# = str(double)\n",
    "                print(\"##############\" + ingredient[index])\n",
    "                new_ingredient = ingredient\n",
    "            except AttributeError:\n",
    "                # no digits found    \n",
    "                new_ingredient = \"2X\" + ingredient\n",
    "            # doubled = ingredient.replace(ingredient[x], ingredient[x*2])\n",
    "            new_ingredient_list.replace(ingredient, new_ingredient)\n",
    "            # new_ingredient_list[ingredient] = doubled\n",
    "    #print(new_ingredient_list)\n",
    "    return new_ingredient_list"
   ]
  },
  {
   "cell_type": "code",
   "execution_count": null,
   "metadata": {
    "collapsed": true
   },
   "outputs": [],
   "source": []
  },
  {
   "cell_type": "code",
   "execution_count": 60,
   "metadata": {
    "collapsed": false
   },
   "outputs": [
    {
     "data": {
      "text/plain": [
       "['1/2 cup almonds',\n",
       " 'milk',\n",
       " '3 tb hot chocolate',\n",
       " 'Beef 2 lbs',\n",
       " '3.5 grams butter',\n",
       " '1/2 cup almonds']"
      ]
     },
     "execution_count": 60,
     "metadata": {},
     "output_type": "execute_result"
    }
   ],
   "source": [
    "ingreds\n"
   ]
  },
  {
   "cell_type": "code",
   "execution_count": 61,
   "metadata": {
    "collapsed": false
   },
   "outputs": [
    {
     "name": "stdout",
     "output_type": "stream",
     "text": [
      "$$$$1/2 cup almonds\n",
      "+\n",
      "$$$$milk\n",
      "+\n",
      "$$$$3 tb hot chocolate\n",
      "+\n",
      "$$$$Beef 2 lbs\n",
      "+\n",
      "$$$$3.5 grams butter\n",
      "+\n",
      "$$$$1/2 cup almonds\n",
      "-\n",
      "!!!1\n",
      "##############1\n"
     ]
    },
    {
     "ename": "AttributeError",
     "evalue": "'list' object has no attribute 'replace'",
     "output_type": "error",
     "traceback": [
      "\u001b[0;31m---------------------------------------------------------------------------\u001b[0m",
      "\u001b[0;31mAttributeError\u001b[0m                            Traceback (most recent call last)",
      "\u001b[0;32m<ipython-input-61-51a59a5b7715>\u001b[0m in \u001b[0;36m<module>\u001b[0;34m()\u001b[0m\n\u001b[0;32m----> 1\u001b[0;31m \u001b[0mingredients_doubler\u001b[0m\u001b[0;34m(\u001b[0m\u001b[0mingreds\u001b[0m\u001b[0;34m)\u001b[0m\u001b[0;34m\u001b[0m\u001b[0m\n\u001b[0m",
      "\u001b[0;32m<ipython-input-59-a91da6d381c2>\u001b[0m in \u001b[0;36mingredients_doubler\u001b[0;34m(list_of_ingredients)\u001b[0m\n\u001b[1;32m     23\u001b[0m                 \u001b[0mnew_ingredient\u001b[0m \u001b[0;34m=\u001b[0m \u001b[0;34m\"2X\"\u001b[0m \u001b[0;34m+\u001b[0m \u001b[0mingredient\u001b[0m\u001b[0;34m\u001b[0m\u001b[0m\n\u001b[1;32m     24\u001b[0m             \u001b[0;31m# doubled = ingredient.replace(ingredient[x], ingredient[x*2])\u001b[0m\u001b[0;34m\u001b[0m\u001b[0;34m\u001b[0m\u001b[0m\n\u001b[0;32m---> 25\u001b[0;31m             \u001b[0mnew_ingredient_list\u001b[0m\u001b[0;34m.\u001b[0m\u001b[0mreplace\u001b[0m\u001b[0;34m(\u001b[0m\u001b[0mingredient\u001b[0m\u001b[0;34m,\u001b[0m \u001b[0mnew_ingredient\u001b[0m\u001b[0;34m)\u001b[0m\u001b[0;34m\u001b[0m\u001b[0m\n\u001b[0m\u001b[1;32m     26\u001b[0m             \u001b[0;31m# new_ingredient_list[ingredient] = doubled\u001b[0m\u001b[0;34m\u001b[0m\u001b[0;34m\u001b[0m\u001b[0m\n\u001b[1;32m     27\u001b[0m     \u001b[0;31m#print(new_ingredient_list)\u001b[0m\u001b[0;34m\u001b[0m\u001b[0;34m\u001b[0m\u001b[0m\n",
      "\u001b[0;31mAttributeError\u001b[0m: 'list' object has no attribute 'replace'"
     ]
    }
   ],
   "source": [
    "ingredients_doubler(ingreds)"
   ]
  },
  {
   "cell_type": "code",
   "execution_count": 54,
   "metadata": {
    "collapsed": false
   },
   "outputs": [
    {
     "data": {
      "text/plain": [
       "['1/2 cup almonds',\n",
       " 'milk',\n",
       " '3 tb hot chocolate',\n",
       " 'Beef 2 lbs',\n",
       " '3.5 grams butter']"
      ]
     },
     "execution_count": 54,
     "metadata": {},
     "output_type": "execute_result"
    }
   ],
   "source": [
    "ingreds\n"
   ]
  },
  {
   "cell_type": "code",
   "execution_count": 56,
   "metadata": {
    "collapsed": false
   },
   "outputs": [],
   "source": [
    "ingreds.append('1/2 cup almonds')#, 'milk', '3 tb hot chocolate')"
   ]
  },
  {
   "cell_type": "code",
   "execution_count": null,
   "metadata": {
    "collapsed": true
   },
   "outputs": [],
   "source": []
  },
  {
   "cell_type": "code",
   "execution_count": 57,
   "metadata": {
    "collapsed": false
   },
   "outputs": [
    {
     "data": {
      "text/plain": [
       "['1/2 cup almonds',\n",
       " 'milk',\n",
       " '3 tb hot chocolate',\n",
       " 'Beef 2 lbs',\n",
       " '3.5 grams butter',\n",
       " '1/2 cup almonds']"
      ]
     },
     "execution_count": 57,
     "metadata": {},
     "output_type": "execute_result"
    }
   ],
   "source": [
    "ingreds\n"
   ]
  },
  {
   "cell_type": "code",
   "execution_count": 58,
   "metadata": {
    "collapsed": false
   },
   "outputs": [
    {
     "ename": "TypeError",
     "evalue": "'str' object does not support item assignment",
     "output_type": "error",
     "traceback": [
      "\u001b[0;31m---------------------------------------------------------------------------\u001b[0m",
      "\u001b[0;31mTypeError\u001b[0m                                 Traceback (most recent call last)",
      "\u001b[0;32m<ipython-input-58-75b770a537db>\u001b[0m in \u001b[0;36m<module>\u001b[0;34m()\u001b[0m\n\u001b[0;32m----> 1\u001b[0;31m \u001b[0mingredient_doubler\u001b[0m\u001b[0;34m(\u001b[0m\u001b[0mingreds\u001b[0m\u001b[0;34m)\u001b[0m\u001b[0;34m\u001b[0m\u001b[0m\n\u001b[0m",
      "\u001b[0;32m<ipython-input-23-222f303f0691>\u001b[0m in \u001b[0;36mingredient_doubler\u001b[0;34m(list_of_ingredients)\u001b[0m\n\u001b[1;32m     13\u001b[0m                 \u001b[0mindex\u001b[0m \u001b[0;34m=\u001b[0m \u001b[0mfirst_number_match_found\u001b[0m\u001b[0;34m.\u001b[0m\u001b[0mstart\u001b[0m\u001b[0;34m(\u001b[0m\u001b[0;34m)\u001b[0m\u001b[0;34m\u001b[0m\u001b[0m\n\u001b[1;32m     14\u001b[0m                 \u001b[0mdouble\u001b[0m \u001b[0;34m=\u001b[0m \u001b[0mint\u001b[0m\u001b[0;34m(\u001b[0m\u001b[0mingredient\u001b[0m\u001b[0;34m[\u001b[0m\u001b[0mindex\u001b[0m\u001b[0;34m]\u001b[0m\u001b[0;34m)\u001b[0m \u001b[0;34m*\u001b[0m \u001b[0;36m2\u001b[0m\u001b[0;34m\u001b[0m\u001b[0m\n\u001b[0;32m---> 15\u001b[0;31m                 \u001b[0mingredient\u001b[0m\u001b[0;34m[\u001b[0m\u001b[0mindex\u001b[0m\u001b[0;34m]\u001b[0m \u001b[0;34m=\u001b[0m \u001b[0mstr\u001b[0m\u001b[0;34m(\u001b[0m\u001b[0mdouble\u001b[0m\u001b[0;34m)\u001b[0m\u001b[0;34m\u001b[0m\u001b[0m\n\u001b[0m\u001b[1;32m     16\u001b[0m                 \u001b[0mnew_ingredient\u001b[0m \u001b[0;34m=\u001b[0m \u001b[0mingredient\u001b[0m\u001b[0;34m\u001b[0m\u001b[0m\n\u001b[1;32m     17\u001b[0m             \u001b[0;32mexcept\u001b[0m \u001b[0mAttributeError\u001b[0m\u001b[0;34m:\u001b[0m\u001b[0;34m\u001b[0m\u001b[0m\n",
      "\u001b[0;31mTypeError\u001b[0m: 'str' object does not support item assignment"
     ]
    }
   ],
   "source": [
    "ingredient_doubler(ingreds)"
   ]
  },
  {
   "cell_type": "code",
   "execution_count": null,
   "metadata": {
    "collapsed": true
   },
   "outputs": [],
   "source": []
  }
 ],
 "metadata": {
  "anaconda-cloud": {},
  "kernelspec": {
   "display_name": "Python [conda env:py36-Env]",
   "language": "python",
   "name": "conda-env-py36-Env-py"
  },
  "language_info": {
   "codemirror_mode": {
    "name": "ipython",
    "version": 3
   },
   "file_extension": ".py",
   "mimetype": "text/x-python",
   "name": "python",
   "nbconvert_exporter": "python",
   "pygments_lexer": "ipython3",
   "version": "3.6.1"
  }
 },
 "nbformat": 4,
 "nbformat_minor": 1
}
